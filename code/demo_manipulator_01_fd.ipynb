{
 "cells": [
  {
   "cell_type": "markdown",
   "id": "2c907911",
   "metadata": {},
   "source": [
    "### Manipulator Forward Dynamics (FD)"
   ]
  },
  {
   "cell_type": "code",
   "execution_count": 1,
   "id": "549fa5d2",
   "metadata": {},
   "outputs": [
    {
     "name": "stdout",
     "output_type": "stream",
     "text": [
      "Done.\n"
     ]
    }
   ],
   "source": [
    "import numpy as np\n",
    "np.set_printoptions(precision=2)\n",
    "import matplotlib.pyplot as plt\n",
    "%config InlineBackend.figure_format = 'retina'\n",
    "%matplotlib inline\n",
    "from mujoco_parser import MuJoCoParserClass\n",
    "print (\"Done.\")"
   ]
  },
  {
   "cell_type": "markdown",
   "id": "ab3cdc97",
   "metadata": {},
   "source": [
    "### Simulate free-fall motion"
   ]
  },
  {
   "cell_type": "code",
   "execution_count": 2,
   "id": "22c272c9",
   "metadata": {},
   "outputs": [
    {
     "name": "stdout",
     "output_type": "stream",
     "text": [
      "Creating window glfw\n",
      "tick:[1/2501], sec_wall:[0.184]sec, sec_sim:[0.002]sec\n",
      "tick:[501/2501], sec_wall:[0.911]sec, sec_sim:[1.002]sec\n",
      "tick:[1001/2501], sec_wall:[1.892]sec, sec_sim:[2.002]sec\n",
      "tick:[1501/2501], sec_wall:[2.896]sec, sec_sim:[3.002]sec\n",
      "tick:[2001/2501], sec_wall:[3.906]sec, sec_sim:[4.002]sec\n",
      "tick:[2501/2501], sec_wall:[4.945]sec, sec_sim:[5.002]sec\n",
      "Done.\n"
     ]
    }
   ],
   "source": [
    "env = MuJoCoParserClass(name='Panda',rel_path='../asset/panda/franka_panda.xml',VERBOSE=False)\n",
    "env.init_viewer(TERMINATE_GLFW=True,window_width=0.5,window_height=0.5,cam_distance=3.0,cam_elevation=-45)\n",
    "env.set_max_sec(max_sec=5.0)\n",
    "sec_list = np.zeros(env.max_tick)\n",
    "q_list   = np.zeros((env.max_tick,env.n_rev_joint))\n",
    "while env.IS_ALIVE():\n",
    "    env.step_and_render(render_speedup=1.0,RENDER_ALWAYS=False)\n",
    "    env.print(print_every_sec=1.0,VERBOSE=1)\n",
    "    # Append\n",
    "    sec_list[env.tick-1] = env.get_sec_sim()\n",
    "    q_list[env.tick-1,:] = env.get_q_rev()\n",
    "print (\"Done.\")"
   ]
  },
  {
   "cell_type": "code",
   "execution_count": 3,
   "id": "bcdb873d",
   "metadata": {},
   "outputs": [],
   "source": [
    "env.terminate_viewer() # terminate viewer"
   ]
  },
  {
   "cell_type": "code",
   "execution_count": null,
   "id": "4ce28968",
   "metadata": {},
   "outputs": [
    {
     "name": "stdout",
     "output_type": "stream",
     "text": [
      "Creating window glfw\n"
     ]
    }
   ],
   "source": [
    "env.init_viewer(TERMINATE_GLFW=True,window_width=0.5,window_height=0.5)\n",
    "fig = plt.figure(figsize=(15,6))\n",
    "for idx,tick in enumerate(np.linspace(0,env.max_tick-1,8).astype(np.int32)):\n",
    "    env.forward(q_rev=q_list[tick,:])\n",
    "    img = env.plot_scene(render_w=400,render_h=300,\n",
    "                         cam_distance=2.0,cam_elevation=-45,cam_lookat=[0,0,1.25],NO_PLOT=True)\n",
    "    ax = fig.add_subplot(2,4,idx+1)\n",
    "    ax.imshow(img)\n",
    "    ax.set_title('Tick:[%d/%d] [%.2f]sec'%(tick,env.max_tick-1,sec_list[tick]),fontsize=12)"
   ]
  },
  {
   "cell_type": "code",
   "execution_count": null,
   "id": "60de5ba2",
   "metadata": {},
   "outputs": [],
   "source": []
  }
 ],
 "metadata": {
  "kernelspec": {
   "display_name": "Python 3 (ipykernel)",
   "language": "python",
   "name": "python3"
  },
  "language_info": {
   "codemirror_mode": {
    "name": "ipython",
    "version": 3
   },
   "file_extension": ".py",
   "mimetype": "text/x-python",
   "name": "python",
   "nbconvert_exporter": "python",
   "pygments_lexer": "ipython3",
   "version": "3.8.13"
  }
 },
 "nbformat": 4,
 "nbformat_minor": 5
}
