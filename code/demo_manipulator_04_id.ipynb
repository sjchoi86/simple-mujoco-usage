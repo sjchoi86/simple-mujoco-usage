{
 "cells": [
  {
   "cell_type": "markdown",
   "id": "ed5a5df8",
   "metadata": {},
   "source": [
    "### Manipulator Inverse Dynamics (ID)"
   ]
  },
  {
   "cell_type": "code",
   "execution_count": 1,
   "id": "0b106dc6",
   "metadata": {},
   "outputs": [
    {
     "name": "stdout",
     "output_type": "stream",
     "text": [
      "Done.\n"
     ]
    }
   ],
   "source": [
    "import numpy as np\n",
    "np.set_printoptions(precision=2)\n",
    "import matplotlib.pyplot as plt\n",
    "%config InlineBackend.figure_format = 'retina'\n",
    "%matplotlib inline\n",
    "from mujoco_py import functions\n",
    "from mujoco_parser import MuJoCoManipulatorParserClass\n",
    "print (\"Done.\")"
   ]
  },
  {
   "cell_type": "markdown",
   "id": "18ad56f0",
   "metadata": {},
   "source": [
    "### Simulate free-fall motion"
   ]
  },
  {
   "cell_type": "code",
   "execution_count": 2,
   "id": "fcb83616",
   "metadata": {
    "scrolled": true
   },
   "outputs": [
    {
     "name": "stdout",
     "output_type": "stream",
     "text": [
      "Creating window glfw\n",
      "tick:[501/5001], sec_wall:[0.931]sec, sec_sim:[1.000]sec\n",
      "tick:[1001/5001], sec_wall:[1.888]sec, sec_sim:[2.000]sec\n",
      "tick:[1501/5001], sec_wall:[2.934]sec, sec_sim:[3.000]sec\n",
      "tick:[2001/5001], sec_wall:[3.955]sec, sec_sim:[4.000]sec\n",
      "tick:[2501/5001], sec_wall:[4.996]sec, sec_sim:[5.000]sec\n",
      "tick:[3001/5001], sec_wall:[5.997]sec, sec_sim:[6.000]sec\n",
      "tick:[3501/5001], sec_wall:[6.998]sec, sec_sim:[7.000]sec\n",
      "tick:[4001/5001], sec_wall:[8.001]sec, sec_sim:[8.000]sec\n",
      "tick:[4501/5001], sec_wall:[9.001]sec, sec_sim:[9.000]sec\n",
      "tick:[5001/5001], sec_wall:[9.997]sec, sec_sim:[10.000]sec\n",
      "Done.\n"
     ]
    }
   ],
   "source": [
    "env = MuJoCoManipulatorParserClass(\n",
    "    name='Panda',rel_path='../asset/panda/franka_panda.xml',ee_name='panda_eef',VERBOSE=False)\n",
    "env.init_viewer(TERMINATE_GLFW=True,window_width=0.5,window_height=0.75,cam_distance=3.0,cam_elevation=-45)\n",
    "env.set_max_sec(max_sec=10.0)\n",
    "\n",
    "# Set initial manipulator position \n",
    "q_rev_init = np.array([0,0,0,-90,0,90,0])*np.pi/180.0 # desired position\n",
    "env.forward(q_rev=q_rev_init)\n",
    "\n",
    "# Buffers\n",
    "sec_list = np.zeros(env.max_tick)\n",
    "q_list   = np.zeros((env.max_tick,env.n_rev_joint))\n",
    "while env.IS_ALIVE():    \n",
    "    \n",
    "    # Backup\n",
    "    qpos_bu = env.sim.data.qpos[env.rev_joint_idxs].copy()\n",
    "    qvel_bu = env.sim.data.qvel[env.rev_joint_idxs].copy()\n",
    "    qacc_bu = env.sim.data.qacc[env.rev_joint_idxs].copy()\n",
    "    \n",
    "    # Emulate spring\n",
    "    q_rev = env.get_q_rev()\n",
    "    env.sim.data.qpos[env.rev_joint_idxs] = q_rev\n",
    "    env.sim.data.qvel[env.rev_joint_idxs] = np.zeros(env.n_rev_joint)\n",
    "    env.sim.data.qacc[env.rev_joint_idxs] = q_rev_init-q_rev # emulate spring\n",
    "    functions.mj_inverse(env.sim.model,env.sim.data)\n",
    "    torque = env.sim.data.qfrc_inverse[env.rev_joint_idxs].copy()\n",
    "    \n",
    "    # Restore\n",
    "    env.sim.data.qpos[env.rev_joint_idxs] = qpos_bu\n",
    "    env.sim.data.qvel[env.rev_joint_idxs] = qvel_bu\n",
    "    env.sim.data.qacc[env.rev_joint_idxs] = qacc_bu\n",
    "    \n",
    "    # Step\n",
    "    env.step_and_render(torque=1.0*torque,render_speedup=1.0,RENDER_ALWAYS=False)\n",
    "    env.print(print_every_sec=1.0,VERBOSE=1)\n",
    "    # Append\n",
    "    sec_list[env.tick-1] = env.get_sec_sim()\n",
    "    q_list[env.tick-1,:] = env.get_q_rev()\n",
    "print (\"Done.\")"
   ]
  },
  {
   "cell_type": "code",
   "execution_count": 3,
   "id": "2dffc9a7",
   "metadata": {},
   "outputs": [],
   "source": [
    "env.terminate_viewer() # terminate viewer"
   ]
  },
  {
   "cell_type": "code",
   "execution_count": null,
   "id": "2e456496",
   "metadata": {},
   "outputs": [],
   "source": []
  }
 ],
 "metadata": {
  "kernelspec": {
   "display_name": "Python 3 (ipykernel)",
   "language": "python",
   "name": "python3"
  },
  "language_info": {
   "codemirror_mode": {
    "name": "ipython",
    "version": 3
   },
   "file_extension": ".py",
   "mimetype": "text/x-python",
   "name": "python",
   "nbconvert_exporter": "python",
   "pygments_lexer": "ipython3",
   "version": "3.8.13"
  }
 },
 "nbformat": 4,
 "nbformat_minor": 5
}
