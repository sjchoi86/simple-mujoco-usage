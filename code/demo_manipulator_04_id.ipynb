{
 "cells": [
  {
   "cell_type": "markdown",
   "id": "ed5a5df8",
   "metadata": {},
   "source": [
    "### Manipulator Inverse Dynamics (ID)"
   ]
  },
  {
   "cell_type": "code",
   "execution_count": null,
   "id": "0b106dc6",
   "metadata": {},
   "outputs": [],
   "source": [
    "import numpy as np\n",
    "np.set_printoptions(precision=2)\n",
    "import matplotlib.pyplot as plt\n",
    "%config InlineBackend.figure_format = 'retina'\n",
    "%matplotlib inline\n",
    "from mujoco_py import functions\n",
    "from mujoco_parser import MuJoCoParserClass\n",
    "from util import get_colors\n",
    "print (\"Done.\")"
   ]
  },
  {
   "cell_type": "markdown",
   "id": "18ad56f0",
   "metadata": {},
   "source": [
    "### Simulate gravity compensation (spring-like behavior)"
   ]
  },
  {
   "cell_type": "code",
   "execution_count": null,
   "id": "fcb83616",
   "metadata": {
    "scrolled": true
   },
   "outputs": [],
   "source": [
    "env = MuJoCoParserClass(name='Panda',rel_path='../asset/panda/franka_panda.xml',VERBOSE=False)\n",
    "env.init_viewer(TERMINATE_GLFW=True,window_width=0.5,window_height=0.75,cam_distance=3.0,cam_elevation=-45)\n",
    "env.set_max_sec(max_sec=10.0)\n",
    "\n",
    "# Set initial manipulator position \n",
    "q_rev_des = np.array([0,0,0,-90,0,90,0])*np.pi/180.0 # desired position\n",
    "env.forward(q_rev=q_rev_des + 0.0*np.random.randn(env.n_rev_joint)*np.pi/180.0) # perturbation\n",
    "\n",
    "# Buffers\n",
    "sec_list = np.zeros(env.max_tick)\n",
    "q_list   = np.zeros((env.max_tick,env.n_rev_joint))\n",
    "while env.IS_ALIVE():    \n",
    "    \n",
    "    # Backup\n",
    "    qpos_bu = env.sim.data.qpos[env.rev_joint_idxs].copy()\n",
    "    qvel_bu = env.sim.data.qvel[env.rev_joint_idxs].copy()\n",
    "    qacc_bu = env.sim.data.qacc[env.rev_joint_idxs].copy()\n",
    "    \n",
    "    # Emulate spring\n",
    "    q_rev = env.get_q_rev()\n",
    "    q_err = q_rev_des-q_rev\n",
    "    env.sim.data.qpos[env.rev_joint_idxs] = q_rev\n",
    "    env.sim.data.qvel[env.rev_joint_idxs] = np.zeros(env.n_rev_joint)\n",
    "    env.sim.data.qacc[env.rev_joint_idxs] = np.zeros(env.n_rev_joint) # 20.0*q_err\n",
    "    functions.mj_inverse(env.sim.model,env.sim.data)\n",
    "    torque = env.sim.data.qfrc_inverse[env.rev_joint_idxs].copy()\n",
    "    \n",
    "    # Restore\n",
    "    env.sim.data.qpos[env.rev_joint_idxs] = qpos_bu\n",
    "    env.sim.data.qvel[env.rev_joint_idxs] = qvel_bu\n",
    "    env.sim.data.qacc[env.rev_joint_idxs] = qacc_bu\n",
    "    \n",
    "    # Step\n",
    "    env.step_and_render(torque=1.00*torque,render_speedup=1.0,RENDER_ALWAYS=False)\n",
    "    env.print(print_every_sec=1.0,VERBOSE=1)\n",
    "    # Append\n",
    "    sec_list[env.tick-1] = env.get_sec_sim()\n",
    "    q_list[env.tick-1,:] = env.get_q_rev()\n",
    "    \n",
    "print (\"Done.\")"
   ]
  },
  {
   "cell_type": "code",
   "execution_count": null,
   "id": "2dffc9a7",
   "metadata": {},
   "outputs": [],
   "source": [
    "env.terminate_viewer() # terminate viewer"
   ]
  },
  {
   "cell_type": "markdown",
   "id": "25c56ebf",
   "metadata": {},
   "source": [
    "### Plot joint trajectories"
   ]
  },
  {
   "cell_type": "code",
   "execution_count": null,
   "id": "3fe56c7e",
   "metadata": {},
   "outputs": [],
   "source": [
    "plt.figure(figsize=(10,5))\n",
    "colors = get_colors(n=env.n_rev_joint,cm=plt.cm.Set1)\n",
    "for i_idx in range(env.n_rev_joint):\n",
    "    plt.plot(sec_list[1:],q_list[1:,i_idx],'-',color=colors[i_idx],lw=2,label='Joint %d'%(i_idx))\n",
    "    plt.plot(sec_list[1:],q_rev_des[i_idx]+0.0*q_list[1:,i_idx],'--',color=colors[i_idx],\n",
    "             label='Target %d'%(i_idx))\n",
    "plt.legend(loc='lower right')\n",
    "plt.title('Joint trajectories',fontsize=15)\n",
    "plt.show()"
   ]
  },
  {
   "cell_type": "code",
   "execution_count": null,
   "id": "461200e5",
   "metadata": {},
   "outputs": [],
   "source": []
  }
 ],
 "metadata": {
  "kernelspec": {
   "display_name": "Python 3 (ipykernel)",
   "language": "python",
   "name": "python3"
  },
  "language_info": {
   "codemirror_mode": {
    "name": "ipython",
    "version": 3
   },
   "file_extension": ".py",
   "mimetype": "text/x-python",
   "name": "python",
   "nbconvert_exporter": "python",
   "pygments_lexer": "ipython3",
   "version": "3.8.13"
  }
 },
 "nbformat": 4,
 "nbformat_minor": 5
}
