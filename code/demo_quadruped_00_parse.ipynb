{
 "cells": [
  {
   "cell_type": "markdown",
   "id": "7634930a",
   "metadata": {},
   "source": [
    "### Parse quadruped robot"
   ]
  },
  {
   "cell_type": "code",
   "execution_count": 1,
   "id": "e6f2db0c",
   "metadata": {},
   "outputs": [
    {
     "name": "stdout",
     "output_type": "stream",
     "text": [
      "Done.\n"
     ]
    }
   ],
   "source": [
    "import numpy as np\n",
    "np.set_printoptions(precision=2)\n",
    "import matplotlib.pyplot as plt\n",
    "%config InlineBackend.figure_format = 'retina'\n",
    "%matplotlib inline\n",
    "from mujoco_parser import MuJoCoParserClass\n",
    "print (\"Done.\")"
   ]
  },
  {
   "cell_type": "markdown",
   "id": "945eb36e",
   "metadata": {},
   "source": [
    "### Parse"
   ]
  },
  {
   "cell_type": "code",
   "execution_count": 2,
   "id": "ce5ac9ce",
   "metadata": {
    "scrolled": false
   },
   "outputs": [
    {
     "name": "stdout",
     "output_type": "stream",
     "text": [
      "[/Users/sj/Dropbox/SJ/Research/Implementation/simple-mujoco-usage/code/../asset/snapbot/robot_4_1245.xml] parsed.\n",
      "\n",
      "dt:[0.004] HZ:[250]\n",
      "body_names:\n",
      " ['world', 'torso', 'Camera_module_1', 'Camera_module_2', 'Leg_module_1_1', 'Leg_module_1_2', 'Leg_module_1_3', 'Leg_module_1_4', 'Leg_module_1_4bar', 'Leg_module_2_1', 'Leg_module_2_2', 'Leg_module_2_3', 'Leg_module_2_4', 'Leg_module_2_4bar', 'Leg_module_4_1', 'Leg_module_4_2', 'Leg_module_4_3', 'Leg_module_4_4', 'Leg_module_4_4bar', 'Leg_module_5_1', 'Leg_module_5_2', 'Leg_module_5_3', 'Leg_module_5_4', 'Leg_module_5_4bar']\n",
      "ee_name: [panda_eef]\n",
      "\n",
      "n_joint: [19]\n",
      "joint_names:\n",
      " ['free', 'camera_1', 'camera_2', 'leg_1_2', 'leg_1_3', 'leg_1_4', 'leg_1_4bar', 'leg_2_2', 'leg_2_3', 'leg_2_4', 'leg_2_4bar', 'leg_4_2', 'leg_4_3', 'leg_4_4', 'leg_4_4bar', 'leg_5_2', 'leg_5_3', 'leg_5_4', 'leg_5_4bar']\n",
      "joint_types:\n",
      " [0 3 3 3 3 3 3 3 3 3 3 3 3 3 3 3 3 3 3]\n",
      " (0:free, 1:ball, 2:slide, 3:hinge) \n",
      "n_rev_joint: [18]\n",
      "rev_joint_idxs:\n",
      " [ 1  2  3  4  5  6  7  8  9 10 11 12 13 14 15 16 17 18]\n",
      "rev_joint_names:\n",
      " ['camera_1', 'camera_2', 'leg_1_2', 'leg_1_3', 'leg_1_4', 'leg_1_4bar', 'leg_2_2', 'leg_2_3', 'leg_2_4', 'leg_2_4bar', 'leg_4_2', 'leg_4_3', 'leg_4_4', 'leg_4_4bar', 'leg_5_2', 'leg_5_3', 'leg_5_4', 'leg_5_4bar']\n",
      "pri_joint_idxs:\n",
      " []\n",
      "pri_joint_names:\n",
      " []\n",
      "\n",
      "joint_range:\n",
      " [[ 0.    0.  ]\n",
      " [ 0.    0.  ]\n",
      " [-3.14  0.  ]\n",
      " [-0.75  0.75]\n",
      " [-0.7   0.7 ]\n",
      " [ 0.    0.  ]\n",
      " [ 0.    0.  ]\n",
      " [-0.75  0.75]\n",
      " [-0.7   0.7 ]\n",
      " [ 0.    0.  ]\n",
      " [ 0.    0.  ]\n",
      " [-0.75  0.75]\n",
      " [-0.7   0.7 ]\n",
      " [ 0.    0.  ]\n",
      " [ 0.    0.  ]\n",
      " [-0.75  0.75]\n",
      " [-0.7   0.7 ]\n",
      " [ 0.    0.  ]\n",
      " [ 0.    0.  ]]\n",
      "torque_range:\n",
      " [[-2.7  2.7]\n",
      " [-2.7  2.7]\n",
      " [-2.7  2.7]\n",
      " [-2.7  2.7]\n",
      " [-2.7  2.7]\n",
      " [-2.7  2.7]\n",
      " [-2.7  2.7]\n",
      " [-2.7  2.7]]\n",
      "n_torque:[8]\n"
     ]
    }
   ],
   "source": [
    "env = MuJoCoParserClass(name='Snapbot',rel_path='../asset/snapbot/robot_4_1245.xml',VERBOSE=True)"
   ]
  },
  {
   "cell_type": "code",
   "execution_count": null,
   "id": "038dec1a",
   "metadata": {},
   "outputs": [],
   "source": []
  }
 ],
 "metadata": {
  "kernelspec": {
   "display_name": "Python 3 (ipykernel)",
   "language": "python",
   "name": "python3"
  },
  "language_info": {
   "codemirror_mode": {
    "name": "ipython",
    "version": 3
   },
   "file_extension": ".py",
   "mimetype": "text/x-python",
   "name": "python",
   "nbconvert_exporter": "python",
   "pygments_lexer": "ipython3",
   "version": "3.8.13"
  }
 },
 "nbformat": 4,
 "nbformat_minor": 5
}
