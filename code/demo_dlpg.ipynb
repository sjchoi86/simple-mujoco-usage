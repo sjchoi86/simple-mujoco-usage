{
 "cells": [
  {
   "cell_type": "markdown",
   "id": "3e46b523",
   "metadata": {},
   "source": [
    "### Deep Latent Policy Gradient"
   ]
  },
  {
   "cell_type": "code",
   "execution_count": 1,
   "id": "eb1a1308",
   "metadata": {},
   "outputs": [
    {
     "name": "stdout",
     "output_type": "stream",
     "text": [
      "Torch version:[1.12.0.dev20220519]\n"
     ]
    }
   ],
   "source": [
    "import numpy as np\n",
    "import torch\n",
    "import torch.nn as nn  \n",
    "import torch.nn.functional as F \n",
    "import matplotlib.pyplot as plt\n",
    "from util import ikdpp\n",
    "from dlpg import DeepLatentPolicyGradientClass\n",
    "%matplotlib inline\n",
    "%config InlineBackend.figure_format='retina'\n",
    "print (\"Torch version:[%s]\"%(torch.__version__))"
   ]
  },
  {
   "cell_type": "code",
   "execution_count": null,
   "id": "26c2b9fb",
   "metadata": {},
   "outputs": [],
   "source": []
  }
 ],
 "metadata": {
  "kernelspec": {
   "display_name": "Python 3 (ipykernel)",
   "language": "python",
   "name": "python3"
  },
  "language_info": {
   "codemirror_mode": {
    "name": "ipython",
    "version": 3
   },
   "file_extension": ".py",
   "mimetype": "text/x-python",
   "name": "python",
   "nbconvert_exporter": "python",
   "pygments_lexer": "ipython3",
   "version": "3.8.13"
  }
 },
 "nbformat": 4,
 "nbformat_minor": 5
}
