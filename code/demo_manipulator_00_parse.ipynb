{
 "cells": [
  {
   "cell_type": "markdown",
   "id": "be23d49a",
   "metadata": {},
   "source": [
    "### Parse manipulator"
   ]
  },
  {
   "cell_type": "code",
   "execution_count": 1,
   "id": "c071966e",
   "metadata": {},
   "outputs": [
    {
     "name": "stdout",
     "output_type": "stream",
     "text": [
      "Done.\n"
     ]
    }
   ],
   "source": [
    "import numpy as np\n",
    "np.set_printoptions(precision=2)\n",
    "import matplotlib.pyplot as plt\n",
    "%config InlineBackend.figure_format = 'retina'\n",
    "%matplotlib inline\n",
    "from mujoco_parser import MuJoCoParserClass\n",
    "print (\"Done.\")"
   ]
  },
  {
   "cell_type": "markdown",
   "id": "9eb619f2",
   "metadata": {},
   "source": [
    "### Parse xml"
   ]
  },
  {
   "cell_type": "code",
   "execution_count": 2,
   "id": "36cb37ff",
   "metadata": {
    "scrolled": false
   },
   "outputs": [
    {
     "name": "stdout",
     "output_type": "stream",
     "text": [
      "[/Users/sj/Dropbox/SJ/Research/Implementation/simple-mujoco-usage/code/../asset/panda/franka_panda.xml] parsed.\n",
      "\n",
      "dt:[0.002] HZ:[500]\n",
      "body_names:\n",
      " ['world', 'panda_base', 'panda_pedestal', 'panda_link_0', 'panda_link_1', 'panda_link_2', 'panda_link_3', 'panda_link_4', 'panda_link_5', 'panda_link_6', 'panda_link_7', 'right_hand', 'panda_right_gripper', 'panda_eef', 'panda_leftfinger', 'panda_finger_joint1_tip', 'panda_rightfinger', 'panda_finger_joint2_tip']\n",
      "ee_name: [panda_eef]\n",
      "\n",
      "n_joint: [9]\n",
      "joint_names:\n",
      " ['panda_joint1', 'panda_joint2', 'panda_joint3', 'panda_joint4', 'panda_joint5', 'panda_joint6', 'panda_joint7', 'panda_finger_joint1', 'panda_finger_joint2']\n",
      "joint_types:\n",
      " [3 3 3 3 3 3 3 2 2]\n",
      " (0:free, 1:ball, 2:slide, 3:hinge) \n",
      "n_rev_joint: [7]\n",
      "rev_joint_idxs:\n",
      " [0 1 2 3 4 5 6]\n",
      "rev_joint_names:\n",
      " ['panda_joint1', 'panda_joint2', 'panda_joint3', 'panda_joint4', 'panda_joint5', 'panda_joint6', 'panda_joint7']\n",
      "pri_joint_idxs:\n",
      " [7 8]\n",
      "pri_joint_names:\n",
      " ['panda_finger_joint1', 'panda_finger_joint2']\n",
      "\n",
      "joint_range:\n",
      " [[-2.9   2.9 ]\n",
      " [-1.76  1.76]\n",
      " [-2.9   2.9 ]\n",
      " [-3.07 -0.07]\n",
      " [-2.9   2.9 ]\n",
      " [-0.02  3.75]\n",
      " [-2.9   2.9 ]\n",
      " [ 0.    0.04]\n",
      " [-0.04  0.  ]]\n",
      "torque_range:\n",
      " [[-8.0e+01  8.0e+01]\n",
      " [-8.0e+01  8.0e+01]\n",
      " [-8.0e+01  8.0e+01]\n",
      " [-8.0e+01  8.0e+01]\n",
      " [-8.0e+01  8.0e+01]\n",
      " [-1.2e+01  1.2e+01]\n",
      " [-1.2e+01  1.2e+01]\n",
      " [ 0.0e+00  4.0e-02]\n",
      " [-4.0e-02  0.0e+00]]\n",
      "n_torque:[9]\n"
     ]
    }
   ],
   "source": [
    "env = MuJoCoParserClass(name='Panda',rel_path='../asset/panda/franka_panda.xml',VERBOSE=True)"
   ]
  },
  {
   "cell_type": "code",
   "execution_count": null,
   "id": "816346b6",
   "metadata": {},
   "outputs": [],
   "source": []
  }
 ],
 "metadata": {
  "kernelspec": {
   "display_name": "Python 3 (ipykernel)",
   "language": "python",
   "name": "python3"
  },
  "language_info": {
   "codemirror_mode": {
    "name": "ipython",
    "version": 3
   },
   "file_extension": ".py",
   "mimetype": "text/x-python",
   "name": "python",
   "nbconvert_exporter": "python",
   "pygments_lexer": "ipython3",
   "version": "3.8.13"
  }
 },
 "nbformat": 4,
 "nbformat_minor": 5
}
